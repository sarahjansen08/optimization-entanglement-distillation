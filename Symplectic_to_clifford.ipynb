{
 "cells": [
  {
   "cell_type": "code",
   "execution_count": null,
   "metadata": {},
   "outputs": [],
   "source": [
    "import copy as cp"
   ]
  },
  {
   "cell_type": "code",
   "execution_count": null,
   "metadata": {},
   "outputs": [],
   "source": [
    "def H(M,n,i):\n",
    "    res = cp.copy(M)\n",
    "    res.swap_rows(i-1,n+i-1)\n",
    "    return res"
   ]
  },
  {
   "cell_type": "code",
   "execution_count": null,
   "metadata": {},
   "outputs": [],
   "source": [
    "def S(M,n,i):\n",
    "    res = cp.copy(M)\n",
    "    res.add_multiple_of_row(n+i-1,i-1,1)\n",
    "    return res"
   ]
  },
  {
   "cell_type": "code",
   "execution_count": null,
   "metadata": {},
   "outputs": [],
   "source": [
    "def CNOT(M,n,i,j):\n",
    "    res = cp.copy(M)\n",
    "    res.add_multiple_of_row(j-1,i-1,1)\n",
    "    res.add_multiple_of_row(n+i-1,n+j-1,1)\n",
    "    return res"
   ]
  },
  {
   "cell_type": "code",
   "execution_count": null,
   "metadata": {},
   "outputs": [],
   "source": [
    "def Clifford(M, n):\n",
    "    \n",
    "    N = cp.copy(M)\n",
    "    m = n\n",
    "    gates = []\n",
    "    \n",
    "    while m > 1:  \n",
    "    \n",
    "        if N[0,0] == 0:\n",
    "            for k in range(1,m):\n",
    "                if N[k,0] == 1:\n",
    "                    N = CNOT(N,m,k+1,1)\n",
    "                    gates.append(\"CNOT\" + str(k+1) + str(1))\n",
    "                    break\n",
    "                elif N[m+k,0] == 1:\n",
    "                    N = H(N,m,k+1)\n",
    "                    gates.append(\"H\" + str(k+1))\n",
    "                    N = CNOT(N,m,k+1,1)\n",
    "                    gates.append(\"CNOT\" + str(k+1) + str(1))\n",
    "                    break\n",
    "    \n",
    "        for k in range(1,m):\n",
    "            if N[k,0] == 1:\n",
    "                N = CNOT(N,m,1,k+1)\n",
    "                gates.append(\"CNOT\" + str(1) + str(k+1))\n",
    "            \n",
    "        if N[m,0] == 1:\n",
    "            N = S(N,m,1)\n",
    "            gates.append(\"S\" + str(1))\n",
    "        \n",
    "        N = H(N,m,1)\n",
    "        gates.append(\"H\" + str(1))\n",
    "    \n",
    "        for k in range(1,m):\n",
    "            if N[m+k,0] == 1:\n",
    "                N = CNOT(N,m,k+1,1)\n",
    "                gates.append(\"CNOT\" + str(k+1) + str(1))\n",
    "            \n",
    "        for k in range(1,m):\n",
    "            if N[k,m] == 1:\n",
    "                N = CNOT(N,m,1,k+1)\n",
    "                gates.append(\"CNOT\" + str(1) + str(k+1))\n",
    "            \n",
    "        if N[m,m] == 1:\n",
    "            N = S(N,m,1)\n",
    "            gates.append(\"S\" + str(1))\n",
    "    \n",
    "        N = H(N,m,1)\n",
    "        gates.append(\"H\" + str(1))\n",
    "    \n",
    "        for k in range(1,m):\n",
    "            if N[m+k,m] == 1:\n",
    "                N = CNOT(N,m,k+1,1)\n",
    "                gates.append(\"CNOT\" + str(k+1) + str(1))\n",
    "            \n",
    "        new = N.delete_columns([0,m])\n",
    "        new = new.delete_rows([0,m])\n",
    "        \n",
    "        N = new\n",
    "        m = m - 1\n",
    "            \n",
    "    if m == 1:\n",
    "        print(N)\n",
    "        if N == matrix(GF(2), [[1,1],[0,1]]):\n",
    "            gates.append(\"S\" + str(1))\n",
    "            gates.append(\"H\" + str(1))\n",
    "            gates.append(\"S\" + str(1))\n",
    "            \n",
    "        elif N == matrix(GF(2), [[1,0],[1,1]]):\n",
    "            gates.append(\"S\" + str(1))\n",
    "            \n",
    "        elif N == matrix(GF(2), [[0,1],[1,0]]):\n",
    "            gates.append(\"H\" + str(1))\n",
    "            \n",
    "        elif N == matrix(GF(2), [[1,1],[1,0]]):\n",
    "            gates.append(\"S\" + str(1))\n",
    "            gates.append(\"H\" + str(1))\n",
    "            \n",
    "        elif N == matrix(GF(2), [[0,1],[1,1]]):\n",
    "            gates.append(\"H\" + str(1))\n",
    "            gates.append(\"S\" + str(1))\n",
    "\n",
    "    return gates\n"
   ]
  },
  {
   "cell_type": "code",
   "execution_count": null,
   "metadata": {},
   "outputs": [],
   "source": [
    "M = matrix(GF(2), [[0, 0, 0, 0, 1, 1, 1, 1],[1, 1, 1, 1, 0 ,0, 0, 0],[1, 1, 0, 0, 1, 0, 0, 1],[1, 0, 1, 0, 0, 1, 1, 0],[1, 1, 0, 1, 0, 0, 1, 1,],\n",
    "                   [1, 0, 0, 1, 0, 0, 0, 1],[0, 1, 0, 1, 0, 0, 1, 1],[1, 0, 0, 1, 0, 0, 1, 1]])"
   ]
  },
  {
   "cell_type": "code",
   "execution_count": null,
   "metadata": {},
   "outputs": [],
   "source": [
    "gates = Clifford(M, 4)\n",
    "print(gates)"
   ]
  },
  {
   "cell_type": "code",
   "execution_count": null,
   "metadata": {},
   "outputs": [],
   "source": []
  }
 ],
 "metadata": {
  "kernelspec": {
   "display_name": "SageMath 9.0",
   "language": "sage",
   "name": "sagemath"
  },
  "language_info": {
   "codemirror_mode": {
    "name": "ipython",
    "version": 3
   },
   "file_extension": ".py",
   "mimetype": "text/x-python",
   "name": "python",
   "nbconvert_exporter": "python",
   "pygments_lexer": "ipython3",
   "version": "3.7.3"
  }
 },
 "nbformat": 4,
 "nbformat_minor": 2
}
