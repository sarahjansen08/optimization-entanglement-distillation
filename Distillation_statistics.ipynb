{
 "cells": [
  {
   "cell_type": "code",
   "execution_count": 1,
   "metadata": {},
   "outputs": [],
   "source": [
    "import numpy as np\n",
    "import itertools as it"
   ]
  },
  {
   "cell_type": "markdown",
   "metadata": {},
   "source": [
    "Number of qubits"
   ]
  },
  {
   "cell_type": "code",
   "execution_count": 2,
   "metadata": {},
   "outputs": [],
   "source": [
    "m = 2\n",
    "\n",
    "# Load transversal\n",
    "transversal_inv = load('2_transversal_inv.sobj')"
   ]
  },
  {
   "cell_type": "markdown",
   "metadata": {},
   "source": [
    "Functions"
   ]
  },
  {
   "cell_type": "code",
   "execution_count": 3,
   "metadata": {},
   "outputs": [],
   "source": [
    "def base(M, n):\n",
    "    # calculate the image of the base under a matrix M\n",
    "    \n",
    "    # make a set of all combinations of the first column and the last n columns (these correspond to X_1, Z_1,...,Z_n)\n",
    "    s = []\n",
    "    for i in range(n+1, 2*n):\n",
    "        s.append(M[0:2*n, i])\n",
    "    powerset = it.chain.from_iterable(it.combinations(s, r) for r in range(1, len(s)+1))\n",
    "    \n",
    "    res = [vector(GF(2),2*n)]\n",
    "        \n",
    "    for i in powerset:\n",
    "        v = vector(sum(i))     # calculate the sum of the elements of each combination (e.g IZZ = IZI + IIZ)\n",
    "        res.append(v)\n",
    "        \n",
    "    return res"
   ]
  },
  {
   "cell_type": "code",
   "execution_count": 4,
   "metadata": {},
   "outputs": [],
   "source": [
    "def pillars(M, n):\n",
    "    # calculate the image of the pillars under a matrix M\n",
    "    \n",
    "    X1 = vector(M[0:2*n, 0])\n",
    "    Z1 = vector(M[0:2*n, n])\n",
    "    Y1 = X1 + Z1\n",
    "    \n",
    "    pI = base(M, n)\n",
    "    pX = [(X1 + b) for b in pI]\n",
    "    pY = [(Y1 + b) for b in pI]\n",
    "    pZ = [(Z1 + b) for b in pI]\n",
    "    \n",
    "    return [pI, pX, pY, pZ]   "
   ]
  },
  {
   "cell_type": "code",
   "execution_count": 5,
   "metadata": {},
   "outputs": [],
   "source": [
    "def tensor(A, n):\n",
    "    # calculate the n fold tensor product of a matrix A\n",
    "    \n",
    "    kron = A\n",
    "    count = 1\n",
    "    while count < n:\n",
    "        kron = np.kron(kron,A)\n",
    "        count = count + 1\n",
    "        \n",
    "    if n == 2:\n",
    "        res = np.reshape(kron, (4,4))\n",
    "    elif n == 3:\n",
    "        res = np.reshape(kron, (4,4,4)) \n",
    "    elif n == 4:\n",
    "        res = np.reshape(kron, (4,4,4,4)) \n",
    "    elif n == 5:\n",
    "        res = np.reshape(kron, (4,4,4,4,4)) \n",
    "        \n",
    "    return res"
   ]
  },
  {
   "cell_type": "code",
   "execution_count": 6,
   "metadata": {},
   "outputs": [],
   "source": [
    "def dist_stat(initial, M, n):\n",
    "    # returns the success probability of an n-to-1 protocol M applied to an initial state\n",
    "    pil = pillars(M, n)\n",
    "    out = []\n",
    "    for layer in pil:   \n",
    "        coef = 0\n",
    "        for elt in layer:\n",
    "            if n == 2:\n",
    "                coef = coef + initial[int(elt[0]) + 2*int(elt[n]), int(elt[1]) + 2*int(elt[n+1])]\n",
    "            if n == 3:\n",
    "                coef = coef + initial[int(elt[0]) + 2*int(elt[n]), int(elt[1]) + 2*int(elt[n+1]), \\\n",
    "                                   int(elt[2]) + 2*int(elt[n+2])]\n",
    "            if n == 4:\n",
    "                coef = coef + initial[int(elt[0]) + 2*int(elt[n]), int(elt[1]) + 2*int(elt[n+1]), \\\n",
    "                                   int(elt[2]) + 2*int(elt[n+2]), int(elt[3]) + 2*int(elt[n+3])]\n",
    "            if n == 5:\n",
    "                coef = coef + initial[int(elt[0]) + 2*int(elt[n]), int(elt[1]) + 2*int(elt[n+1]), \\\n",
    "                                   int(elt[2]) + 2*int(elt[n+2]), int(elt[3]) + 2*int(elt[n+3]), \\\n",
    "                                    int(elt[4]) + 2*int(elt[n+4])]\n",
    "        out.append(coef)   \n",
    "    sp = sum(out)\n",
    "    fid = out[0]/sp\n",
    "    r = 1\n",
    "    for i in out:\n",
    "        r = r + float(i * log(i) / log(2))\n",
    "    r = r*sp/n\n",
    "    \n",
    "    return sp, fid, r"
   ]
  },
  {
   "cell_type": "code",
   "execution_count": 11,
   "metadata": {},
   "outputs": [],
   "source": [
    "def best_protocol(initial, transversal_inv, n, measure = \"fidelity\"):\n",
    "    # calculates the best protocol from a dictionary of inverses of protocols (transversal_inv) applied to an initial state\n",
    "    # as quality measures the fidelity (\"fidelity\"), success probability (\"sucprob\") or rate (\"rate\") can be chosen\n",
    "              \n",
    "    if measure == \"sucprob\":\n",
    "        res = 0\n",
    "        for key, M in transversal_inv.items():\n",
    "            s = (dist_stat(initial, M, n))[0]\n",
    "            if s > res:\n",
    "                res = s\n",
    "                opt_inv = M   \n",
    "                \n",
    "    if measure == \"fidelity\":\n",
    "        res = 0\n",
    "        for key, M in transversal_inv.items():\n",
    "            f = (dist_stat(initial, M, n))[1]\n",
    "            if f > res:\n",
    "                res = f\n",
    "                opt_inv = M\n",
    "    \n",
    "    if measure == \"rate\":\n",
    "        res = -100\n",
    "        for key, M in transversal_inv.items():\n",
    "            r = (dist_stat(initial, M, n))[2]\n",
    "            if r > res:\n",
    "                res = r\n",
    "                opt_inv = M       \n",
    "    \n",
    "    # Calculate inverse of optimal protocol        \n",
    "    A = opt_inv[0:n, 0:n]\n",
    "    B = opt_inv[0:n, n:2*n]\n",
    "    C = opt_inv[n:2*n, 0:n]\n",
    "    D = opt_inv[n:2*n, n:2*n]\n",
    "    opt = block_matrix([[D.transpose(),-B.transpose()],[-C.transpose(),A.transpose()]], subdivide=False)\n",
    "    \n",
    "    return res, opt"
   ]
  },
  {
   "cell_type": "code",
   "execution_count": null,
   "metadata": {},
   "outputs": [],
   "source": [
    "def sucprob_fid_lists(initial, transversal_inv, n):\n",
    "    # calculate the possible distillation statistics (success probability & fidelity) of the protocols in a transversal\n",
    "    # applied to an initial state\n",
    "    \n",
    "    fid = []\n",
    "    sp = []\n",
    "    fslist = []\n",
    "    for key, M in transversal_inv.items():\n",
    "        s = round(dist_stat(initial, M, n)[0],10)\n",
    "        f = round(dist_stat(initial, M, n)[1],10)\n",
    "        if (s,f) not in fslist:\n",
    "            sp.append(s)\n",
    "            fid.append(f)\n",
    "            fslist.append((s,f))\n",
    "    return sp, fid"
   ]
  },
  {
   "cell_type": "markdown",
   "metadata": {},
   "source": [
    "Input states"
   ]
  },
  {
   "cell_type": "code",
   "execution_count": null,
   "metadata": {},
   "outputs": [],
   "source": [
    "# isotropic input state\n",
    "\n",
    "fid_in = [0.55, 0.575, 0.6, 0.625, 0.65, 0.675, 0.7, 0.725, 0.75, 0.775, 0.8, 0.825, 0.85, 0.875, 0.9, 0.925, 0.95, 0.975]\n",
    "init_iso = []\n",
    "for f in fid_in:\n",
    "    init_iso.append(vector([f, (1-f)/3, (1-f)/3, (1-f)/3]))"
   ]
  },
  {
   "cell_type": "code",
   "execution_count": 8,
   "metadata": {},
   "outputs": [],
   "source": [
    "# Bell diagonal state\n",
    "\n",
    "p0 = np.random.uniform(0.5, 1)\n",
    "p1 = np.random.uniform(0, 1-p0)\n",
    "p2 = np.random.uniform(0, 1-p0-p1)\n",
    "p3 = 1 - p0 - p1 - p2\n",
    "lst = [p0, p1, p2, p3]\n",
    "lst.sort()\n",
    "\n",
    "init_bell = vector([lst[3], lst[2], lst[1], lst[0]])\n",
    "print(init_bell)\n",
    "#init_bell = vector([0.752604752074101, 0.10567340022267524, 0.0938043735551225, 0.04791747414810121])"
   ]
  },
  {
   "cell_type": "markdown",
   "metadata": {},
   "source": [
    "Results"
   ]
  },
  {
   "cell_type": "code",
   "execution_count": null,
   "metadata": {},
   "outputs": [],
   "source": [
    "for i in init_iso:\n",
    "    print(sucprob_fid_lists(tensor(i, m), transversal_inv, m))"
   ]
  },
  {
   "cell_type": "code",
   "execution_count": null,
   "metadata": {},
   "outputs": [],
   "source": [
    "print(sucprob_fid_lists(tensor(init_bell, m), transversal_inv, m))"
   ]
  },
  {
   "cell_type": "code",
   "execution_count": null,
   "metadata": {},
   "outputs": [],
   "source": [
    "r_list = []\n",
    "for i in init_iso:\n",
    "    r_list.append((best_protocol(tensor(i, m), transversal_inv, m, measure = \"rate\"))[0])\n",
    "print(r_list)"
   ]
  },
  {
   "cell_type": "code",
   "execution_count": null,
   "metadata": {},
   "outputs": [],
   "source": [
    "# rate n = 1\n",
    "r_list = []\n",
    "for i in init_iso:\n",
    "    r = 1\n",
    "    for j in i:\n",
    "        r = r + float(j * log(j) / log(2))\n",
    "    r_list.append(r)\n",
    "print(r_list)"
   ]
  },
  {
   "cell_type": "code",
   "execution_count": null,
   "metadata": {},
   "outputs": [],
   "source": [
    "# rate DEJMPS\n",
    "DEJ = matrix(GF(2),[[1, 0, 1, 0], [1, 1, 1, 1], [0, 0, 1, 1], [0, 0, 0, 1]])\n",
    "r_list = []\n",
    "for i in init_iso:\n",
    "    r_list.append(dist_stat(tensor(i, 2), DEJ.inverse(), 2)[2])\n",
    "print(r_list)\n",
    "    "
   ]
  },
  {
   "cell_type": "code",
   "execution_count": null,
   "metadata": {},
   "outputs": [],
   "source": [
    "print(best_protocol(tensor(init_bell, m), transversal_inv, m, measure = \"fidelity\"))"
   ]
  },
  {
   "cell_type": "code",
   "execution_count": null,
   "metadata": {},
   "outputs": [],
   "source": []
  }
 ],
 "metadata": {
  "kernelspec": {
   "display_name": "SageMath 9.0",
   "language": "sage",
   "name": "sagemath"
  },
  "language_info": {
   "codemirror_mode": {
    "name": "ipython",
    "version": 3
   },
   "file_extension": ".py",
   "mimetype": "text/x-python",
   "name": "python",
   "nbconvert_exporter": "python",
   "pygments_lexer": "ipython3",
   "version": "3.7.3"
  }
 },
 "nbformat": 4,
 "nbformat_minor": 2
}
